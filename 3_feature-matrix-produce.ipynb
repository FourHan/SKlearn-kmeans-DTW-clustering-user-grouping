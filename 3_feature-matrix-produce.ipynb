{
 "cells": [
  {
   "cell_type": "markdown",
   "metadata": {},
   "source": [
    "# 將資料處理成要分群的feature"
   ]
  },
  {
   "cell_type": "markdown",
   "metadata": {},
   "source": [
    "#### 存成pkl檔，只要執行一次即可"
   ]
  },
  {
   "cell_type": "code",
   "execution_count": 1,
   "metadata": {
    "collapsed": true
   },
   "outputs": [],
   "source": [
    "import pickle\n",
    "import pandas as pd\n",
    "import numpy as np\n",
    "import os\n",
    "from datetime import datetime,timedelta,date,time\n",
    "import glob\n",
    "%matplotlib inline"
   ]
  },
  {
   "cell_type": "code",
   "execution_count": 2,
   "metadata": {
    "collapsed": true
   },
   "outputs": [],
   "source": [
    "column_names = ['DateTime', 'ratio_value']\n",
    "area = 'data/ratiodata/'\n",
    "dir_path = os.getcwd()"
   ]
  },
  {
   "cell_type": "code",
   "execution_count": 3,
   "metadata": {
    "collapsed": true
   },
   "outputs": [],
   "source": [
    "region = pd.read_excel(('region_full.xlsx'), sheetname=None, header=0, skiprows=None)\n",
    "region_list = ['Yonghe','Xinyi', 'Penghu', 'Dali', 'Banciao','Quchi']"
   ]
  },
  {
   "cell_type": "code",
   "execution_count": 5,
   "metadata": {
    "collapsed": true
   },
   "outputs": [],
   "source": [
    "## people with zero value whole year (which caused the problem of \"Mean of empty slice\")\n",
    "# 永和\n",
    "r1 = ['T1411','T0457','T0031','T2834','T0639','T0473','T2915','T1298','T0441','T0603','T0474','T7018',\n",
    "      'T1267','T1264','T3265','T2879','T0980','T2914','T3072','T3522']\n",
    "# 信義\n",
    "r2 = ['M00686']\n",
    "# 板橋\n",
    "r3 = ['T4166','T6540','T4648','T4542','T6873','T5003','T4167','T5851']\n",
    "remove_list = [r1,r2,None,None,r3,None]"
   ]
  },
  {
   "cell_type": "code",
   "execution_count": null,
   "metadata": {
    "collapsed": true
   },
   "outputs": [],
   "source": [
    "dt = {}\n",
    "for dpath in glob.glob(os.path.join(dir_path,area)+'*.csv'):\n",
    "    d_name = dpath[61:][:-4]\n",
    "    #print(d_name)\n",
    "    dt[d_name] = pd.read_csv(dpath)\n",
    "    dt[d_name].fillna(0,inplace = True)\n",
    "    dt[d_name].columns = column_names\n",
    "    dt[d_name]['DateTime'] = pd.to_datetime(dt[d_name]['DateTime'])  "
   ]
  },
  {
   "cell_type": "code",
   "execution_count": 62,
   "metadata": {
    "collapsed": true
   },
   "outputs": [],
   "source": [
    "# 輸入一個 DataFrame，回傳非假日的所有紀錄\n",
    "def get_weekday_DT(dataT):\n",
    "    return dataT[[0<=dtime.weekday()<=4 for dtime in dataT['DateTime']]]\n",
    "#get_weekday_DT(dt['M00001.csv'])"
   ]
  },
  {
   "cell_type": "code",
   "execution_count": 63,
   "metadata": {
    "collapsed": true
   },
   "outputs": [],
   "source": [
    "# 將所有的非假日資料過濾出來\n",
    "summer_dt = {}\n",
    "for k in dt.keys():\n",
    "    summer_dt[k] = get_weekday_DT(dt[k])"
   ]
  },
  {
   "cell_type": "code",
   "execution_count": 64,
   "metadata": {
    "collapsed": true
   },
   "outputs": [],
   "source": [
    "# all_times 為所有時間點的 datetime.time，[00:00, 01:0, 02:00, ... , 23:00,00:00]\n",
    "all_times = [time(hour=1, minute=0, second=0)]\n",
    "while True:\n",
    "    next_time = datetime.combine(date.today(), all_times[-1]) + timedelta(hours=1)\n",
    "    #next_time = all_times[-1] + time.timedelta(minutes=15)\n",
    "    if next_time.time() == all_times[0]:\n",
    "        break\n",
    "    all_times.append(next_time.time())"
   ]
  },
  {
   "cell_type": "code",
   "execution_count": 65,
   "metadata": {
    "collapsed": true
   },
   "outputs": [],
   "source": [
    "# 將每個 user 的所有時間點用電情形做整理\n",
    "# summer_tdt 為 dict, key: 用戶名稱\n",
    "#                   , value: 該用戶的每個時間點用電情形, 為 dict\n",
    "# 用戶用電情形, key: 時間點, ex: 01:00\n",
    "#           , value: list, 所有該用戶在該時間點用電的紀錄, ex: [ 0.2, 0.3, 0.4]\n",
    "# diff       為 dict, key: 用戶名稱\n",
    "#                   , value: 該用戶的每個時間點用電斜率, 為 dict\n",
    "# 用戶用電斜率, key: 時間點, ex: 01:00\n",
    "#           , value: list, 所有該用戶在該時段與下一個時段的斜率\n",
    "\n",
    "\n",
    "summer_tdt = {}\n",
    "diff = {}\n",
    "for k in summer_dt.keys():\n",
    "    #print(k)\n",
    "    summer_tdt[k] = {}\n",
    "    diff[k] = {}\n",
    "    #將每用戶每個時間點歸零\n",
    "    for t in all_times:\n",
    "        summer_tdt[k][t] = []\n",
    "        diff[k][t]=[]\n",
    "    for i in range(len(summer_dt[k])):\n",
    "        if np.isnan(summer_dt[k]['ratio_value'].iloc[i]):\n",
    "            continue\n",
    "        summer_tdt[k][summer_dt[k]['DateTime'].iloc[i].time()].append(summer_dt[k]['ratio_value'].iloc[i])\n",
    "        if i < len(summer_dt[k])-1:\n",
    "            diff[k][summer_dt[k]['DateTime'].iloc[i].time()].append(summer_dt[k]['ratio_value'].iloc[i+1]-summer_dt[k]['ratio_value'].iloc[i])"
   ]
  },
  {
   "cell_type": "code",
   "execution_count": null,
   "metadata": {
    "collapsed": true
   },
   "outputs": [],
   "source": [
    "A = summer_tdt\n",
    "summer_tdt = open('summer_tdt.pkl','wb')\n",
    "pickle.dump(A,summer_tdt)\n",
    "print(summer_tdt)\n",
    "summer_tdt.close()\n",
    "print('done! finsh storing feature matirx48')"
   ]
  },
  {
   "cell_type": "code",
   "execution_count": null,
   "metadata": {
    "collapsed": true
   },
   "outputs": [],
   "source": [
    "# 將所有 user 的所有時間點用電取 mean，並儲存在 summer_avgdt\n",
    "# summer_avgdt 為 dict, key: 每個時間點\n",
    "#                     , value: list, 紀錄每個 user 該時段平均用電\n",
    "# diff_avgdt   為 dict, key: 每個時間點\n",
    "#                     , value: list, 紀錄每個 user 該時段與下一個時段的平均斜率\n",
    "\n",
    "summer_avgdt = {}\n",
    "diff_avgdt = {}\n",
    "for t in all_times:\n",
    "    summer_avgdt[t] = []\n",
    "    diff_avgdt[t] = []\n",
    "    for k in summer_dt.keys():\n",
    "        summer_avgdt[t].append(np.nanmean(summer_tdt[k][t]))\n",
    "        diff_avgdt[t].append(np.nanmean(diff[k][t]))"
   ]
  },
  {
   "cell_type": "code",
   "execution_count": null,
   "metadata": {
    "collapsed": true
   },
   "outputs": [],
   "source": [
    "def union2(dict1, dict2):\n",
    "    return dict(dict1.items() + dict2.items())\n",
    "dicts=[summer_avgdt,diff_avgdt]\n",
    "dict(i for dct in dicts for i in dct.items())"
   ]
  },
  {
   "cell_type": "markdown",
   "metadata": {},
   "source": [
    "# 存成pkl檔"
   ]
  },
  {
   "cell_type": "markdown",
   "metadata": {},
   "source": [
    "### feature_matrix48.pkl 為用電平均與斜率，共48個feature的檔案"
   ]
  },
  {
   "cell_type": "code",
   "execution_count": 41,
   "metadata": {},
   "outputs": [
    {
     "name": "stdout",
     "output_type": "stream",
     "text": [
      "<_io.BufferedWriter name='matrix_data_Dali.pkl'>\n",
      "done! finsh storing feature matirx\n"
     ]
    }
   ],
   "source": [
    "#x1 = [summer_avgdt[k] for k in summer_avgdt.keys()]\n",
    "x1 = summer_avgd\n",
    "#x2 = [diff_avgdt[k] for k in diff_avgdt.keys()]\n",
    "x2 = diff_avgdt\n",
    "x = x1 + x2\n",
    "#A = [list(i) for i in zip(*x)]\n",
    "A = x\n",
    "feature_matrix48 = open('matrix_data48_'+heka+'.pkl','wb')\n",
    "pickle.dump(A,feature_matrix48)\n",
    "print(feature_matrix48)\n",
    "feature_matrix48.close()\n",
    "print('done! finsh storing feature matirx48')"
   ]
  },
  {
   "cell_type": "markdown",
   "metadata": {},
   "source": [
    "### feature_matrix24.pkl 為只有用電平均，共24個feature的檔案"
   ]
  },
  {
   "cell_type": "code",
   "execution_count": null,
   "metadata": {
    "collapsed": true
   },
   "outputs": [],
   "source": [
    "#B = [list(i) for i in zip(*x1)]\n",
    "B = x1\n",
    "feature_matrix24 = open('matrix_data24_'+heka+'.pkl','wb')\n",
    "pickle.dump(B,feature_matrix24)\n",
    "print(feature_matrix24)\n",
    "feature_matrix24.close()\n",
    "print('done! finsh storing feature matirx24')\n",
    "#B = pickle.load(open('matrix_data_'+heka+'.pkl','rb'))"
   ]
  }
 ],
 "metadata": {
  "kernelspec": {
   "display_name": "Python 3",
   "language": "python",
   "name": "python3"
  },
  "language_info": {
   "codemirror_mode": {
    "name": "ipython",
    "version": 3
   },
   "file_extension": ".py",
   "mimetype": "text/x-python",
   "name": "python",
   "nbconvert_exporter": "python",
   "pygments_lexer": "ipython3",
   "version": "3.4.1"
  }
 },
 "nbformat": 4,
 "nbformat_minor": 2
}
