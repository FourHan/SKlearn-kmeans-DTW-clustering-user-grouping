{
 "cells": [
  {
   "cell_type": "code",
   "execution_count": 1,
   "metadata": {
    "collapsed": true
   },
   "outputs": [],
   "source": [
    "import pandas as pd\n",
    "import matplotlib.pyplot as plt\n",
    "import numpy as np\n",
    "import os\n",
    "import seaborn as sns\n",
    "import pandas as pd\n",
    "import os\n",
    "dir_path = os.getcwd()\n",
    "filename_M= os.listdir('C:/Users/lab343/Desktop/LAB/WORK/智慧電表/User_Value/M')\n",
    "filename_T= os.listdir('C:/Users/lab343/Desktop/LAB/WORK/智慧電表/User_Value/T')\n",
    "%matplotlib inline\n",
    "\n",
    "per_date = pd.date_range('2016-01-01 00:15:00','2017-01-01 00:00:00',freq='15Min')\n",
    "per_month = ['2016-01','2016-02','2016-03','2016-04','2016-05','2016-06','2016-07','2016-08','2016-09','2016-10','2016-11',\n",
    "            '2016-12']\n",
    "per_hour = pd.date_range('2016-01-01 01:00:00','2017-01-01 00:00:00',freq='1H')\n",
    "per_week = pd.date_range('2016-01-01 00:15:00','2017-01-01 00:15:00',freq='7D')\n",
    "per_day = pd.date_range('2016-01-01','2016-12-31',freq='1D')\n",
    "\n",
    "week = ['Monday','Tuesday','Wednesday','Thursday','Friday','Saturday','Sunday']\n",
    "\n",
    "\n",
    "contract = {'1':'低壓表燈',\n",
    "            '4':'低壓綜合用電',\n",
    "            '7':'普通低壓電力',\n",
    "            'C':'低壓需量綜合',\n",
    "            'D':'低壓需量電力',\n",
    "            'F':'低壓表燈時間電價'}\n",
    "user = {'0':'公用路燈或自來水',\n",
    "        '1':'軍眷',\n",
    "        '5':'非營業用',\n",
    "        '6':'營業用'}"
   ]
  },
  {
   "cell_type": "code",
   "execution_count": 2,
   "metadata": {
    "collapsed": true
   },
   "outputs": [],
   "source": [
    "full_file = pd.read_csv('full_user.csv')\n",
    "full_file = full_file.filename.values.tolist()"
   ]
  },
  {
   "cell_type": "code",
   "execution_count": null,
   "metadata": {
    "collapsed": true
   },
   "outputs": [],
   "source": [
    "def pre_ratio(userfile):\n",
    "    try:\n",
    "        test = pd.read_csv('C:/Users/lab343/Desktop/LAB/WORK/智慧電表/hour/M/'+userfile,index_col=0)\n",
    "    except:\n",
    "        test = pd.read_csv('C:/Users/lab343/Desktop/LAB/WORK/智慧電表/hour/T/'+userfile,index_col=0)\n",
    "    test.index = pd.to_datetime(test.index)   \n",
    "    print(userfile,'是否有遺失值:',test.isnull().values.any())\n",
    "    day_sum = []\n",
    "    j = 0\n",
    "    for i in range(366):\n",
    "        day_sum.append(test.iloc[j:j+24,1].sum())\n",
    "        j +=24\n",
    "    for i in per_day.astype(str):\n",
    "        test.loc[i,'day_sum'] = day_sum[per_day.astype(str).tolist().index(i)]\n",
    "    \n",
    "    test.day_sum = test.day_sum.shift(1)\n",
    "    test.iloc[0,4] = test.iloc[1,4]\n",
    "    test['ratio_value'] = test.Value/test.day_sum\n",
    "    test.drop(['CustomerID','Value','day_sum','Week','holiday'],1,inplace=True)\n",
    "    return test"
   ]
  },
  {
   "cell_type": "code",
   "execution_count": null,
   "metadata": {
    "collapsed": true
   },
   "outputs": [],
   "source": [
    "for i in full_file:\n",
    "    data = pre_ratio(i)\n",
    "    data.to_csv('C:/Users/lab343/Desktop/LAB/WORK/智慧電表/ratiodata/'+i)"
   ]
  }
 ],
 "metadata": {
  "kernelspec": {
   "display_name": "Python 3",
   "language": "python",
   "name": "python3"
  },
  "language_info": {
   "codemirror_mode": {
    "name": "ipython",
    "version": 3
   },
   "file_extension": ".py",
   "mimetype": "text/x-python",
   "name": "python",
   "nbconvert_exporter": "python",
   "pygments_lexer": "ipython3",
   "version": "3.4.1"
  }
 },
 "nbformat": 4,
 "nbformat_minor": 2
}
